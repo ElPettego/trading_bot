{
 "cells": [
  {
   "cell_type": "code",
   "execution_count": 1,
   "metadata": {},
   "outputs": [],
   "source": [
    "import pandas as pd\n",
    "import plotly.graph_objects as go\n",
    "import datetime as dt"
   ]
  },
  {
   "cell_type": "code",
   "execution_count": 2,
   "metadata": {},
   "outputs": [
    {
     "ename": "FileNotFoundError",
     "evalue": "[Errno 2] No such file or directory: '../data/EUR_USD_H4.pkl'",
     "output_type": "error",
     "traceback": [
      "\u001b[1;31m---------------------------------------------------------------------------\u001b[0m",
      "\u001b[1;31mFileNotFoundError\u001b[0m                         Traceback (most recent call last)",
      "\u001b[1;32me:\\Programmazione\\LAVORI\\trading_bot\\Test\\plotting_candles.ipynb Cell 2'\u001b[0m in \u001b[0;36m<module>\u001b[1;34m\u001b[0m\n\u001b[0;32m      <a href='vscode-notebook-cell:/e%3A/Programmazione/LAVORI/trading_bot/Test/plotting_candles.ipynb#ch0000001?line=0'>1</a>\u001b[0m pair \u001b[39m=\u001b[39m\u001b[39m\"\u001b[39m\u001b[39mEUR_USD\u001b[39m\u001b[39m\"\u001b[39m\n\u001b[0;32m      <a href='vscode-notebook-cell:/e%3A/Programmazione/LAVORI/trading_bot/Test/plotting_candles.ipynb#ch0000001?line=1'>2</a>\u001b[0m granularity \u001b[39m=\u001b[39m \u001b[39m\"\u001b[39m\u001b[39mH4\u001b[39m\u001b[39m\"\u001b[39m\n\u001b[1;32m----> <a href='vscode-notebook-cell:/e%3A/Programmazione/LAVORI/trading_bot/Test/plotting_candles.ipynb#ch0000001?line=3'>4</a>\u001b[0m df \u001b[39m=\u001b[39m pd\u001b[39m.\u001b[39;49mread_pickle(\u001b[39mf\u001b[39;49m\u001b[39m\"\u001b[39;49m\u001b[39m../data/\u001b[39;49m\u001b[39m{\u001b[39;49;00mpair\u001b[39m}\u001b[39;49;00m\u001b[39m_\u001b[39;49m\u001b[39m{\u001b[39;49;00mgranularity\u001b[39m}\u001b[39;49;00m\u001b[39m.pkl\u001b[39;49m\u001b[39m\"\u001b[39;49m)\n",
      "File \u001b[1;32mc:\\Users\\Windows\\AppData\\Local\\Programs\\Python\\Python38\\lib\\site-packages\\pandas\\io\\pickle.py:185\u001b[0m, in \u001b[0;36mread_pickle\u001b[1;34m(filepath_or_buffer, compression, storage_options)\u001b[0m\n\u001b[0;32m    <a href='file:///c%3A/Users/Windows/AppData/Local/Programs/Python/Python38/lib/site-packages/pandas/io/pickle.py?line=117'>118</a>\u001b[0m \u001b[39m\"\"\"\u001b[39;00m\n\u001b[0;32m    <a href='file:///c%3A/Users/Windows/AppData/Local/Programs/Python/Python38/lib/site-packages/pandas/io/pickle.py?line=118'>119</a>\u001b[0m \u001b[39mLoad pickled pandas object (or any object) from file.\u001b[39;00m\n\u001b[0;32m    <a href='file:///c%3A/Users/Windows/AppData/Local/Programs/Python/Python38/lib/site-packages/pandas/io/pickle.py?line=119'>120</a>\u001b[0m \n\u001b[1;32m   (...)\u001b[0m\n\u001b[0;32m    <a href='file:///c%3A/Users/Windows/AppData/Local/Programs/Python/Python38/lib/site-packages/pandas/io/pickle.py?line=181'>182</a>\u001b[0m \u001b[39m>>> os.remove(\"./dummy.pkl\")\u001b[39;00m\n\u001b[0;32m    <a href='file:///c%3A/Users/Windows/AppData/Local/Programs/Python/Python38/lib/site-packages/pandas/io/pickle.py?line=182'>183</a>\u001b[0m \u001b[39m\"\"\"\u001b[39;00m\n\u001b[0;32m    <a href='file:///c%3A/Users/Windows/AppData/Local/Programs/Python/Python38/lib/site-packages/pandas/io/pickle.py?line=183'>184</a>\u001b[0m excs_to_catch \u001b[39m=\u001b[39m (\u001b[39mAttributeError\u001b[39;00m, \u001b[39mImportError\u001b[39;00m, \u001b[39mModuleNotFoundError\u001b[39;00m, \u001b[39mTypeError\u001b[39;00m)\n\u001b[1;32m--> <a href='file:///c%3A/Users/Windows/AppData/Local/Programs/Python/Python38/lib/site-packages/pandas/io/pickle.py?line=184'>185</a>\u001b[0m \u001b[39mwith\u001b[39;00m get_handle(\n\u001b[0;32m    <a href='file:///c%3A/Users/Windows/AppData/Local/Programs/Python/Python38/lib/site-packages/pandas/io/pickle.py?line=185'>186</a>\u001b[0m     filepath_or_buffer,\n\u001b[0;32m    <a href='file:///c%3A/Users/Windows/AppData/Local/Programs/Python/Python38/lib/site-packages/pandas/io/pickle.py?line=186'>187</a>\u001b[0m     \u001b[39m\"\u001b[39;49m\u001b[39mrb\u001b[39;49m\u001b[39m\"\u001b[39;49m,\n\u001b[0;32m    <a href='file:///c%3A/Users/Windows/AppData/Local/Programs/Python/Python38/lib/site-packages/pandas/io/pickle.py?line=187'>188</a>\u001b[0m     compression\u001b[39m=\u001b[39;49mcompression,\n\u001b[0;32m    <a href='file:///c%3A/Users/Windows/AppData/Local/Programs/Python/Python38/lib/site-packages/pandas/io/pickle.py?line=188'>189</a>\u001b[0m     is_text\u001b[39m=\u001b[39;49m\u001b[39mFalse\u001b[39;49;00m,\n\u001b[0;32m    <a href='file:///c%3A/Users/Windows/AppData/Local/Programs/Python/Python38/lib/site-packages/pandas/io/pickle.py?line=189'>190</a>\u001b[0m     storage_options\u001b[39m=\u001b[39;49mstorage_options,\n\u001b[0;32m    <a href='file:///c%3A/Users/Windows/AppData/Local/Programs/Python/Python38/lib/site-packages/pandas/io/pickle.py?line=190'>191</a>\u001b[0m ) \u001b[39mas\u001b[39;00m handles:\n\u001b[0;32m    <a href='file:///c%3A/Users/Windows/AppData/Local/Programs/Python/Python38/lib/site-packages/pandas/io/pickle.py?line=191'>192</a>\u001b[0m \n\u001b[0;32m    <a href='file:///c%3A/Users/Windows/AppData/Local/Programs/Python/Python38/lib/site-packages/pandas/io/pickle.py?line=192'>193</a>\u001b[0m     \u001b[39m# 1) try standard library Pickle\u001b[39;00m\n\u001b[0;32m    <a href='file:///c%3A/Users/Windows/AppData/Local/Programs/Python/Python38/lib/site-packages/pandas/io/pickle.py?line=193'>194</a>\u001b[0m     \u001b[39m# 2) try pickle_compat (older pandas version) to handle subclass changes\u001b[39;00m\n\u001b[0;32m    <a href='file:///c%3A/Users/Windows/AppData/Local/Programs/Python/Python38/lib/site-packages/pandas/io/pickle.py?line=194'>195</a>\u001b[0m     \u001b[39m# 3) try pickle_compat with latin-1 encoding upon a UnicodeDecodeError\u001b[39;00m\n\u001b[0;32m    <a href='file:///c%3A/Users/Windows/AppData/Local/Programs/Python/Python38/lib/site-packages/pandas/io/pickle.py?line=196'>197</a>\u001b[0m     \u001b[39mtry\u001b[39;00m:\n\u001b[0;32m    <a href='file:///c%3A/Users/Windows/AppData/Local/Programs/Python/Python38/lib/site-packages/pandas/io/pickle.py?line=197'>198</a>\u001b[0m         \u001b[39m# TypeError for Cython complaints about object.__new__ vs Tick.__new__\u001b[39;00m\n\u001b[0;32m    <a href='file:///c%3A/Users/Windows/AppData/Local/Programs/Python/Python38/lib/site-packages/pandas/io/pickle.py?line=198'>199</a>\u001b[0m         \u001b[39mtry\u001b[39;00m:\n",
      "File \u001b[1;32mc:\\Users\\Windows\\AppData\\Local\\Programs\\Python\\Python38\\lib\\site-packages\\pandas\\io\\common.py:651\u001b[0m, in \u001b[0;36mget_handle\u001b[1;34m(path_or_buf, mode, encoding, compression, memory_map, is_text, errors, storage_options)\u001b[0m\n\u001b[0;32m    <a href='file:///c%3A/Users/Windows/AppData/Local/Programs/Python/Python38/lib/site-packages/pandas/io/common.py?line=641'>642</a>\u001b[0m         handle \u001b[39m=\u001b[39m \u001b[39mopen\u001b[39m(\n\u001b[0;32m    <a href='file:///c%3A/Users/Windows/AppData/Local/Programs/Python/Python38/lib/site-packages/pandas/io/common.py?line=642'>643</a>\u001b[0m             handle,\n\u001b[0;32m    <a href='file:///c%3A/Users/Windows/AppData/Local/Programs/Python/Python38/lib/site-packages/pandas/io/common.py?line=643'>644</a>\u001b[0m             ioargs\u001b[39m.\u001b[39mmode,\n\u001b[1;32m   (...)\u001b[0m\n\u001b[0;32m    <a href='file:///c%3A/Users/Windows/AppData/Local/Programs/Python/Python38/lib/site-packages/pandas/io/common.py?line=646'>647</a>\u001b[0m             newline\u001b[39m=\u001b[39m\u001b[39m\"\u001b[39m\u001b[39m\"\u001b[39m,\n\u001b[0;32m    <a href='file:///c%3A/Users/Windows/AppData/Local/Programs/Python/Python38/lib/site-packages/pandas/io/common.py?line=647'>648</a>\u001b[0m         )\n\u001b[0;32m    <a href='file:///c%3A/Users/Windows/AppData/Local/Programs/Python/Python38/lib/site-packages/pandas/io/common.py?line=648'>649</a>\u001b[0m     \u001b[39melse\u001b[39;00m:\n\u001b[0;32m    <a href='file:///c%3A/Users/Windows/AppData/Local/Programs/Python/Python38/lib/site-packages/pandas/io/common.py?line=649'>650</a>\u001b[0m         \u001b[39m# Binary mode\u001b[39;00m\n\u001b[1;32m--> <a href='file:///c%3A/Users/Windows/AppData/Local/Programs/Python/Python38/lib/site-packages/pandas/io/common.py?line=650'>651</a>\u001b[0m         handle \u001b[39m=\u001b[39m \u001b[39mopen\u001b[39;49m(handle, ioargs\u001b[39m.\u001b[39;49mmode)\n\u001b[0;32m    <a href='file:///c%3A/Users/Windows/AppData/Local/Programs/Python/Python38/lib/site-packages/pandas/io/common.py?line=651'>652</a>\u001b[0m     handles\u001b[39m.\u001b[39mappend(handle)\n\u001b[0;32m    <a href='file:///c%3A/Users/Windows/AppData/Local/Programs/Python/Python38/lib/site-packages/pandas/io/common.py?line=653'>654</a>\u001b[0m \u001b[39m# Convert BytesIO or file objects passed with an encoding\u001b[39;00m\n",
      "\u001b[1;31mFileNotFoundError\u001b[0m: [Errno 2] No such file or directory: '../data/EUR_USD_H4.pkl'"
     ]
    }
   ],
   "source": [
    "pair =\"EUR_USD\"\n",
    "granularity = \"H4\"\n",
    "\n",
    "df = pd.read_pickle(f\"../data/{pair}_{granularity}.pkl\")"
   ]
  },
  {
   "cell_type": "code",
   "execution_count": null,
   "metadata": {},
   "outputs": [
    {
     "data": {
      "text/html": [
       "<div>\n",
       "<style scoped>\n",
       "    .dataframe tbody tr th:only-of-type {\n",
       "        vertical-align: middle;\n",
       "    }\n",
       "\n",
       "    .dataframe tbody tr th {\n",
       "        vertical-align: top;\n",
       "    }\n",
       "\n",
       "    .dataframe thead th {\n",
       "        text-align: right;\n",
       "    }\n",
       "</style>\n",
       "<table border=\"1\" class=\"dataframe\">\n",
       "  <thead>\n",
       "    <tr style=\"text-align: right;\">\n",
       "      <th></th>\n",
       "      <th>time</th>\n",
       "      <th>volume</th>\n",
       "      <th>mid_o</th>\n",
       "      <th>mid_h</th>\n",
       "      <th>mid_l</th>\n",
       "      <th>mid_c</th>\n",
       "      <th>bid_o</th>\n",
       "      <th>bid_h</th>\n",
       "      <th>bid_l</th>\n",
       "      <th>bid_c</th>\n",
       "      <th>ask_o</th>\n",
       "      <th>ask_h</th>\n",
       "      <th>ask_l</th>\n",
       "      <th>ask_c</th>\n",
       "    </tr>\n",
       "  </thead>\n",
       "  <tbody>\n",
       "    <tr>\n",
       "      <th>3995</th>\n",
       "      <td>2022-05-20 09:00:00+00:00</td>\n",
       "      <td>27498</td>\n",
       "      <td>1.05772</td>\n",
       "      <td>1.05994</td>\n",
       "      <td>1.05612</td>\n",
       "      <td>1.05642</td>\n",
       "      <td>1.05765</td>\n",
       "      <td>1.05986</td>\n",
       "      <td>1.05603</td>\n",
       "      <td>1.05634</td>\n",
       "      <td>1.05780</td>\n",
       "      <td>1.06001</td>\n",
       "      <td>1.05619</td>\n",
       "      <td>1.05651</td>\n",
       "    </tr>\n",
       "    <tr>\n",
       "      <th>3996</th>\n",
       "      <td>2022-05-20 13:00:00+00:00</td>\n",
       "      <td>39374</td>\n",
       "      <td>1.05642</td>\n",
       "      <td>1.05712</td>\n",
       "      <td>1.05396</td>\n",
       "      <td>1.05490</td>\n",
       "      <td>1.05635</td>\n",
       "      <td>1.05704</td>\n",
       "      <td>1.05389</td>\n",
       "      <td>1.05482</td>\n",
       "      <td>1.05650</td>\n",
       "      <td>1.05719</td>\n",
       "      <td>1.05404</td>\n",
       "      <td>1.05497</td>\n",
       "    </tr>\n",
       "    <tr>\n",
       "      <th>3997</th>\n",
       "      <td>2022-05-20 17:00:00+00:00</td>\n",
       "      <td>19265</td>\n",
       "      <td>1.05490</td>\n",
       "      <td>1.05675</td>\n",
       "      <td>1.05329</td>\n",
       "      <td>1.05554</td>\n",
       "      <td>1.05482</td>\n",
       "      <td>1.05667</td>\n",
       "      <td>1.05322</td>\n",
       "      <td>1.05504</td>\n",
       "      <td>1.05498</td>\n",
       "      <td>1.05683</td>\n",
       "      <td>1.05336</td>\n",
       "      <td>1.05604</td>\n",
       "    </tr>\n",
       "    <tr>\n",
       "      <th>3998</th>\n",
       "      <td>2022-05-22 21:00:00+00:00</td>\n",
       "      <td>12093</td>\n",
       "      <td>1.05648</td>\n",
       "      <td>1.05908</td>\n",
       "      <td>1.05586</td>\n",
       "      <td>1.05830</td>\n",
       "      <td>1.05600</td>\n",
       "      <td>1.05897</td>\n",
       "      <td>1.05536</td>\n",
       "      <td>1.05820</td>\n",
       "      <td>1.05695</td>\n",
       "      <td>1.05918</td>\n",
       "      <td>1.05627</td>\n",
       "      <td>1.05839</td>\n",
       "    </tr>\n",
       "    <tr>\n",
       "      <th>3999</th>\n",
       "      <td>2022-05-23 01:00:00+00:00</td>\n",
       "      <td>13115</td>\n",
       "      <td>1.05830</td>\n",
       "      <td>1.05949</td>\n",
       "      <td>1.05797</td>\n",
       "      <td>1.05906</td>\n",
       "      <td>1.05821</td>\n",
       "      <td>1.05941</td>\n",
       "      <td>1.05787</td>\n",
       "      <td>1.05898</td>\n",
       "      <td>1.05839</td>\n",
       "      <td>1.05958</td>\n",
       "      <td>1.05807</td>\n",
       "      <td>1.05915</td>\n",
       "    </tr>\n",
       "  </tbody>\n",
       "</table>\n",
       "</div>"
      ],
      "text/plain": [
       "                          time  volume    mid_o    mid_h    mid_l    mid_c  \\\n",
       "3995 2022-05-20 09:00:00+00:00   27498  1.05772  1.05994  1.05612  1.05642   \n",
       "3996 2022-05-20 13:00:00+00:00   39374  1.05642  1.05712  1.05396  1.05490   \n",
       "3997 2022-05-20 17:00:00+00:00   19265  1.05490  1.05675  1.05329  1.05554   \n",
       "3998 2022-05-22 21:00:00+00:00   12093  1.05648  1.05908  1.05586  1.05830   \n",
       "3999 2022-05-23 01:00:00+00:00   13115  1.05830  1.05949  1.05797  1.05906   \n",
       "\n",
       "        bid_o    bid_h    bid_l    bid_c    ask_o    ask_h    ask_l    ask_c  \n",
       "3995  1.05765  1.05986  1.05603  1.05634  1.05780  1.06001  1.05619  1.05651  \n",
       "3996  1.05635  1.05704  1.05389  1.05482  1.05650  1.05719  1.05404  1.05497  \n",
       "3997  1.05482  1.05667  1.05322  1.05504  1.05498  1.05683  1.05336  1.05604  \n",
       "3998  1.05600  1.05897  1.05536  1.05820  1.05695  1.05918  1.05627  1.05839  \n",
       "3999  1.05821  1.05941  1.05787  1.05898  1.05839  1.05958  1.05807  1.05915  "
      ]
     },
     "execution_count": 38,
     "metadata": {},
     "output_type": "execute_result"
    }
   ],
   "source": [
    "df.tail()"
   ]
  },
  {
   "cell_type": "code",
   "execution_count": null,
   "metadata": {},
   "outputs": [],
   "source": [
    "df['sTime'] = [dt.datetime.strftime(x , \"s%y-%m-%d & %H:%M\") for x in df['time']]"
   ]
  },
  {
   "cell_type": "code",
   "execution_count": null,
   "metadata": {},
   "outputs": [],
   "source": [
    "df_plot = df.iloc[:100]"
   ]
  },
  {
   "cell_type": "code",
   "execution_count": null,
   "metadata": {},
   "outputs": [
    {
     "data": {
      "application/vnd.plotly.v1+json": {
       "config": {
        "plotlyServerURL": "https://plot.ly"
       },
       "data": [
        {
         "close": [
          1.10737,
          1.10795,
          1.10824,
          1.10828,
          1.10916,
          1.10873,
          1.10986,
          1.10997,
          1.10978,
          1.10928,
          1.10794,
          1.1095,
          1.11094,
          1.11113,
          1.11091,
          1.11092,
          1.11192,
          1.11144,
          1.11208,
          1.11503,
          1.11624,
          1.11652,
          1.11749,
          1.11527,
          1.11504,
          1.11514,
          1.1155,
          1.11643,
          1.11606,
          1.11312,
          1.11682,
          1.11654,
          1.11673,
          1.1168,
          1.1165,
          1.11562,
          1.11412,
          1.11282,
          1.11255,
          1.1128,
          1.11292,
          1.10993,
          1.10678,
          1.10742,
          1.10752,
          1.1076,
          1.10914,
          1.10879,
          1.10661,
          1.10664,
          1.10646,
          1.10608,
          1.10779,
          1.10672,
          1.10409,
          1.10498,
          1.10518,
          1.10524,
          1.10385,
          1.10304,
          1.102,
          1.10192,
          1.10183,
          1.10254,
          1.10296,
          1.10385,
          1.10388,
          1.10332,
          1.10283,
          1.1035,
          1.10332,
          1.10202,
          1.10107,
          1.1009,
          1.10107,
          1.10151,
          1.10154,
          1.10076,
          1.09991,
          1.10068,
          1.10044,
          1.09985,
          1.1001,
          1.09986,
          1.10177,
          1.1021,
          1.1025,
          1.10217,
          1.10189,
          1.10422,
          1.10539,
          1.10514,
          1.10578,
          1.10612,
          1.10619,
          1.10566,
          1.10817,
          1.10733,
          1.10697,
          1.10754
         ],
         "decreasing": {
          "fillcolor": "#CC2E3C",
          "line": {
           "color": "#FF3A4C"
          }
         },
         "high": [
          1.11052,
          1.10826,
          1.10844,
          1.1084,
          1.1097,
          1.11066,
          1.10987,
          1.11032,
          1.11023,
          1.11026,
          1.10952,
          1.10961,
          1.11185,
          1.11134,
          1.11146,
          1.11124,
          1.11234,
          1.11272,
          1.11256,
          1.11516,
          1.11626,
          1.11706,
          1.11756,
          1.11752,
          1.11589,
          1.11542,
          1.11566,
          1.11668,
          1.11689,
          1.11604,
          1.11718,
          1.11699,
          1.117,
          1.11736,
          1.11756,
          1.11705,
          1.1157,
          1.11428,
          1.11312,
          1.11284,
          1.11403,
          1.11314,
          1.10997,
          1.10754,
          1.10758,
          1.10799,
          1.10928,
          1.10922,
          1.10886,
          1.10734,
          1.10726,
          1.10656,
          1.10837,
          1.10917,
          1.10694,
          1.10538,
          1.10534,
          1.10544,
          1.10555,
          1.10481,
          1.10328,
          1.10245,
          1.10246,
          1.10254,
          1.10334,
          1.1043,
          1.10416,
          1.10394,
          1.10378,
          1.1036,
          1.10386,
          1.10366,
          1.10228,
          1.1015,
          1.10142,
          1.10161,
          1.10184,
          1.10204,
          1.10156,
          1.10093,
          1.1011,
          1.10058,
          1.10158,
          1.10043,
          1.10206,
          1.10277,
          1.1027,
          1.10298,
          1.10254,
          1.10432,
          1.10548,
          1.10569,
          1.10589,
          1.10646,
          1.10678,
          1.10672,
          1.109,
          1.10832,
          1.10741,
          1.10786
         ],
         "increasing": {
          "fillcolor": "#24A06B",
          "line": {
           "color": "#2EC886"
          }
         },
         "line": {
          "width": 1
         },
         "low": [
          1.10734,
          1.1073,
          1.10772,
          1.10764,
          1.10818,
          1.10871,
          1.10844,
          1.10968,
          1.10967,
          1.10914,
          1.10773,
          1.10737,
          1.10927,
          1.11049,
          1.11068,
          1.11066,
          1.11082,
          1.11021,
          1.11034,
          1.10801,
          1.1149,
          1.11596,
          1.11574,
          1.11443,
          1.11317,
          1.11406,
          1.1149,
          1.11552,
          1.11551,
          1.11282,
          1.11314,
          1.11589,
          1.11597,
          1.11654,
          1.11492,
          1.11522,
          1.11401,
          1.11248,
          1.1122,
          1.11128,
          1.11244,
          1.10952,
          1.10641,
          1.10637,
          1.10666,
          1.107,
          1.10723,
          1.10771,
          1.10651,
          1.10652,
          1.10634,
          1.1055,
          1.10581,
          1.10654,
          1.1036,
          1.10386,
          1.10458,
          1.1047,
          1.1038,
          1.1026,
          1.10168,
          1.10184,
          1.10164,
          1.10172,
          1.1021,
          1.10257,
          1.1031,
          1.10312,
          1.10282,
          1.10266,
          1.1019,
          1.10112,
          1.10026,
          1.10052,
          1.10076,
          1.10082,
          1.09992,
          1.1,
          1.09956,
          1.09984,
          1.10039,
          1.09952,
          1.09941,
          1.09891,
          1.09928,
          1.10156,
          1.10186,
          1.10217,
          1.10147,
          1.10189,
          1.10376,
          1.10509,
          1.10502,
          1.1058,
          1.10548,
          1.10542,
          1.10556,
          1.10714,
          1.10627,
          1.10692
         ],
         "opacity": 1,
         "open": [
          1.10996,
          1.10735,
          1.10804,
          1.10822,
          1.10826,
          1.10914,
          1.10875,
          1.10984,
          1.10994,
          1.10976,
          1.10931,
          1.10796,
          1.10948,
          1.11092,
          1.11117,
          1.11094,
          1.1109,
          1.11194,
          1.11146,
          1.11211,
          1.11499,
          1.11622,
          1.11649,
          1.11752,
          1.1153,
          1.11507,
          1.11514,
          1.11552,
          1.1164,
          1.11604,
          1.11314,
          1.11684,
          1.11692,
          1.1167,
          1.11678,
          1.11648,
          1.11564,
          1.11414,
          1.11282,
          1.11258,
          1.1128,
          1.11294,
          1.10995,
          1.1068,
          1.10744,
          1.10754,
          1.1076,
          1.10916,
          1.10882,
          1.10663,
          1.1068,
          1.10648,
          1.10608,
          1.10776,
          1.10675,
          1.10412,
          1.10494,
          1.10515,
          1.10524,
          1.10383,
          1.10307,
          1.10202,
          1.10246,
          1.10181,
          1.10254,
          1.10294,
          1.10382,
          1.1039,
          1.10332,
          1.1028,
          1.1035,
          1.10334,
          1.10204,
          1.10109,
          1.10092,
          1.10104,
          1.10151,
          1.10152,
          1.10073,
          1.09988,
          1.10054,
          1.10042,
          1.09985,
          1.10013,
          1.09988,
          1.10175,
          1.1021,
          1.10248,
          1.10217,
          1.10192,
          1.10424,
          1.10541,
          1.10517,
          1.1058,
          1.10612,
          1.10616,
          1.10563,
          1.10814,
          1.10718,
          1.107
         ],
         "type": "candlestick",
         "x": [
          "s19-10-25 & 13:00",
          "s19-10-25 & 17:00",
          "s19-10-27 & 21:00",
          "s19-10-28 & 01:00",
          "s19-10-28 & 05:00",
          "s19-10-28 & 09:00",
          "s19-10-28 & 13:00",
          "s19-10-28 & 17:00",
          "s19-10-28 & 21:00",
          "s19-10-29 & 01:00",
          "s19-10-29 & 05:00",
          "s19-10-29 & 09:00",
          "s19-10-29 & 13:00",
          "s19-10-29 & 17:00",
          "s19-10-29 & 21:00",
          "s19-10-30 & 01:00",
          "s19-10-30 & 05:00",
          "s19-10-30 & 09:00",
          "s19-10-30 & 13:00",
          "s19-10-30 & 17:00",
          "s19-10-30 & 21:00",
          "s19-10-31 & 01:00",
          "s19-10-31 & 05:00",
          "s19-10-31 & 09:00",
          "s19-10-31 & 13:00",
          "s19-10-31 & 17:00",
          "s19-10-31 & 21:00",
          "s19-11-01 & 01:00",
          "s19-11-01 & 05:00",
          "s19-11-01 & 09:00",
          "s19-11-01 & 13:00",
          "s19-11-01 & 17:00",
          "s19-11-03 & 22:00",
          "s19-11-04 & 02:00",
          "s19-11-04 & 06:00",
          "s19-11-04 & 10:00",
          "s19-11-04 & 14:00",
          "s19-11-04 & 18:00",
          "s19-11-04 & 22:00",
          "s19-11-05 & 02:00",
          "s19-11-05 & 06:00",
          "s19-11-05 & 10:00",
          "s19-11-05 & 14:00",
          "s19-11-05 & 18:00",
          "s19-11-05 & 22:00",
          "s19-11-06 & 02:00",
          "s19-11-06 & 06:00",
          "s19-11-06 & 10:00",
          "s19-11-06 & 14:00",
          "s19-11-06 & 18:00",
          "s19-11-06 & 22:00",
          "s19-11-07 & 02:00",
          "s19-11-07 & 06:00",
          "s19-11-07 & 10:00",
          "s19-11-07 & 14:00",
          "s19-11-07 & 18:00",
          "s19-11-07 & 22:00",
          "s19-11-08 & 02:00",
          "s19-11-08 & 06:00",
          "s19-11-08 & 10:00",
          "s19-11-08 & 14:00",
          "s19-11-08 & 18:00",
          "s19-11-10 & 22:00",
          "s19-11-11 & 02:00",
          "s19-11-11 & 06:00",
          "s19-11-11 & 10:00",
          "s19-11-11 & 14:00",
          "s19-11-11 & 18:00",
          "s19-11-11 & 22:00",
          "s19-11-12 & 02:00",
          "s19-11-12 & 06:00",
          "s19-11-12 & 10:00",
          "s19-11-12 & 14:00",
          "s19-11-12 & 18:00",
          "s19-11-12 & 22:00",
          "s19-11-13 & 02:00",
          "s19-11-13 & 06:00",
          "s19-11-13 & 10:00",
          "s19-11-13 & 14:00",
          "s19-11-13 & 18:00",
          "s19-11-13 & 22:00",
          "s19-11-14 & 02:00",
          "s19-11-14 & 06:00",
          "s19-11-14 & 10:00",
          "s19-11-14 & 14:00",
          "s19-11-14 & 18:00",
          "s19-11-14 & 22:00",
          "s19-11-15 & 02:00",
          "s19-11-15 & 06:00",
          "s19-11-15 & 10:00",
          "s19-11-15 & 14:00",
          "s19-11-15 & 18:00",
          "s19-11-17 & 22:00",
          "s19-11-18 & 02:00",
          "s19-11-18 & 06:00",
          "s19-11-18 & 10:00",
          "s19-11-18 & 14:00",
          "s19-11-18 & 18:00",
          "s19-11-18 & 22:00",
          "s19-11-19 & 02:00"
         ]
        }
       ],
       "layout": {
        "font": {
         "color": "#e1e1e1",
         "size": 8
        },
        "height": 400,
        "margin": {
         "b": 10,
         "l": 10,
         "r": 10,
         "t": 10
        },
        "paper_bgcolor": "#2c303c",
        "plot_bgcolor": "#2c303c",
        "template": {
         "data": {
          "bar": [
           {
            "error_x": {
             "color": "#2a3f5f"
            },
            "error_y": {
             "color": "#2a3f5f"
            },
            "marker": {
             "line": {
              "color": "#E5ECF6",
              "width": 0.5
             },
             "pattern": {
              "fillmode": "overlay",
              "size": 10,
              "solidity": 0.2
             }
            },
            "type": "bar"
           }
          ],
          "barpolar": [
           {
            "marker": {
             "line": {
              "color": "#E5ECF6",
              "width": 0.5
             },
             "pattern": {
              "fillmode": "overlay",
              "size": 10,
              "solidity": 0.2
             }
            },
            "type": "barpolar"
           }
          ],
          "carpet": [
           {
            "aaxis": {
             "endlinecolor": "#2a3f5f",
             "gridcolor": "white",
             "linecolor": "white",
             "minorgridcolor": "white",
             "startlinecolor": "#2a3f5f"
            },
            "baxis": {
             "endlinecolor": "#2a3f5f",
             "gridcolor": "white",
             "linecolor": "white",
             "minorgridcolor": "white",
             "startlinecolor": "#2a3f5f"
            },
            "type": "carpet"
           }
          ],
          "choropleth": [
           {
            "colorbar": {
             "outlinewidth": 0,
             "ticks": ""
            },
            "type": "choropleth"
           }
          ],
          "contour": [
           {
            "colorbar": {
             "outlinewidth": 0,
             "ticks": ""
            },
            "colorscale": [
             [
              0,
              "#0d0887"
             ],
             [
              0.1111111111111111,
              "#46039f"
             ],
             [
              0.2222222222222222,
              "#7201a8"
             ],
             [
              0.3333333333333333,
              "#9c179e"
             ],
             [
              0.4444444444444444,
              "#bd3786"
             ],
             [
              0.5555555555555556,
              "#d8576b"
             ],
             [
              0.6666666666666666,
              "#ed7953"
             ],
             [
              0.7777777777777778,
              "#fb9f3a"
             ],
             [
              0.8888888888888888,
              "#fdca26"
             ],
             [
              1,
              "#f0f921"
             ]
            ],
            "type": "contour"
           }
          ],
          "contourcarpet": [
           {
            "colorbar": {
             "outlinewidth": 0,
             "ticks": ""
            },
            "type": "contourcarpet"
           }
          ],
          "heatmap": [
           {
            "colorbar": {
             "outlinewidth": 0,
             "ticks": ""
            },
            "colorscale": [
             [
              0,
              "#0d0887"
             ],
             [
              0.1111111111111111,
              "#46039f"
             ],
             [
              0.2222222222222222,
              "#7201a8"
             ],
             [
              0.3333333333333333,
              "#9c179e"
             ],
             [
              0.4444444444444444,
              "#bd3786"
             ],
             [
              0.5555555555555556,
              "#d8576b"
             ],
             [
              0.6666666666666666,
              "#ed7953"
             ],
             [
              0.7777777777777778,
              "#fb9f3a"
             ],
             [
              0.8888888888888888,
              "#fdca26"
             ],
             [
              1,
              "#f0f921"
             ]
            ],
            "type": "heatmap"
           }
          ],
          "heatmapgl": [
           {
            "colorbar": {
             "outlinewidth": 0,
             "ticks": ""
            },
            "colorscale": [
             [
              0,
              "#0d0887"
             ],
             [
              0.1111111111111111,
              "#46039f"
             ],
             [
              0.2222222222222222,
              "#7201a8"
             ],
             [
              0.3333333333333333,
              "#9c179e"
             ],
             [
              0.4444444444444444,
              "#bd3786"
             ],
             [
              0.5555555555555556,
              "#d8576b"
             ],
             [
              0.6666666666666666,
              "#ed7953"
             ],
             [
              0.7777777777777778,
              "#fb9f3a"
             ],
             [
              0.8888888888888888,
              "#fdca26"
             ],
             [
              1,
              "#f0f921"
             ]
            ],
            "type": "heatmapgl"
           }
          ],
          "histogram": [
           {
            "marker": {
             "pattern": {
              "fillmode": "overlay",
              "size": 10,
              "solidity": 0.2
             }
            },
            "type": "histogram"
           }
          ],
          "histogram2d": [
           {
            "colorbar": {
             "outlinewidth": 0,
             "ticks": ""
            },
            "colorscale": [
             [
              0,
              "#0d0887"
             ],
             [
              0.1111111111111111,
              "#46039f"
             ],
             [
              0.2222222222222222,
              "#7201a8"
             ],
             [
              0.3333333333333333,
              "#9c179e"
             ],
             [
              0.4444444444444444,
              "#bd3786"
             ],
             [
              0.5555555555555556,
              "#d8576b"
             ],
             [
              0.6666666666666666,
              "#ed7953"
             ],
             [
              0.7777777777777778,
              "#fb9f3a"
             ],
             [
              0.8888888888888888,
              "#fdca26"
             ],
             [
              1,
              "#f0f921"
             ]
            ],
            "type": "histogram2d"
           }
          ],
          "histogram2dcontour": [
           {
            "colorbar": {
             "outlinewidth": 0,
             "ticks": ""
            },
            "colorscale": [
             [
              0,
              "#0d0887"
             ],
             [
              0.1111111111111111,
              "#46039f"
             ],
             [
              0.2222222222222222,
              "#7201a8"
             ],
             [
              0.3333333333333333,
              "#9c179e"
             ],
             [
              0.4444444444444444,
              "#bd3786"
             ],
             [
              0.5555555555555556,
              "#d8576b"
             ],
             [
              0.6666666666666666,
              "#ed7953"
             ],
             [
              0.7777777777777778,
              "#fb9f3a"
             ],
             [
              0.8888888888888888,
              "#fdca26"
             ],
             [
              1,
              "#f0f921"
             ]
            ],
            "type": "histogram2dcontour"
           }
          ],
          "mesh3d": [
           {
            "colorbar": {
             "outlinewidth": 0,
             "ticks": ""
            },
            "type": "mesh3d"
           }
          ],
          "parcoords": [
           {
            "line": {
             "colorbar": {
              "outlinewidth": 0,
              "ticks": ""
             }
            },
            "type": "parcoords"
           }
          ],
          "pie": [
           {
            "automargin": true,
            "type": "pie"
           }
          ],
          "scatter": [
           {
            "marker": {
             "colorbar": {
              "outlinewidth": 0,
              "ticks": ""
             }
            },
            "type": "scatter"
           }
          ],
          "scatter3d": [
           {
            "line": {
             "colorbar": {
              "outlinewidth": 0,
              "ticks": ""
             }
            },
            "marker": {
             "colorbar": {
              "outlinewidth": 0,
              "ticks": ""
             }
            },
            "type": "scatter3d"
           }
          ],
          "scattercarpet": [
           {
            "marker": {
             "colorbar": {
              "outlinewidth": 0,
              "ticks": ""
             }
            },
            "type": "scattercarpet"
           }
          ],
          "scattergeo": [
           {
            "marker": {
             "colorbar": {
              "outlinewidth": 0,
              "ticks": ""
             }
            },
            "type": "scattergeo"
           }
          ],
          "scattergl": [
           {
            "marker": {
             "colorbar": {
              "outlinewidth": 0,
              "ticks": ""
             }
            },
            "type": "scattergl"
           }
          ],
          "scattermapbox": [
           {
            "marker": {
             "colorbar": {
              "outlinewidth": 0,
              "ticks": ""
             }
            },
            "type": "scattermapbox"
           }
          ],
          "scatterpolar": [
           {
            "marker": {
             "colorbar": {
              "outlinewidth": 0,
              "ticks": ""
             }
            },
            "type": "scatterpolar"
           }
          ],
          "scatterpolargl": [
           {
            "marker": {
             "colorbar": {
              "outlinewidth": 0,
              "ticks": ""
             }
            },
            "type": "scatterpolargl"
           }
          ],
          "scatterternary": [
           {
            "marker": {
             "colorbar": {
              "outlinewidth": 0,
              "ticks": ""
             }
            },
            "type": "scatterternary"
           }
          ],
          "surface": [
           {
            "colorbar": {
             "outlinewidth": 0,
             "ticks": ""
            },
            "colorscale": [
             [
              0,
              "#0d0887"
             ],
             [
              0.1111111111111111,
              "#46039f"
             ],
             [
              0.2222222222222222,
              "#7201a8"
             ],
             [
              0.3333333333333333,
              "#9c179e"
             ],
             [
              0.4444444444444444,
              "#bd3786"
             ],
             [
              0.5555555555555556,
              "#d8576b"
             ],
             [
              0.6666666666666666,
              "#ed7953"
             ],
             [
              0.7777777777777778,
              "#fb9f3a"
             ],
             [
              0.8888888888888888,
              "#fdca26"
             ],
             [
              1,
              "#f0f921"
             ]
            ],
            "type": "surface"
           }
          ],
          "table": [
           {
            "cells": {
             "fill": {
              "color": "#EBF0F8"
             },
             "line": {
              "color": "white"
             }
            },
            "header": {
             "fill": {
              "color": "#C8D4E3"
             },
             "line": {
              "color": "white"
             }
            },
            "type": "table"
           }
          ]
         },
         "layout": {
          "annotationdefaults": {
           "arrowcolor": "#2a3f5f",
           "arrowhead": 0,
           "arrowwidth": 1
          },
          "autotypenumbers": "strict",
          "coloraxis": {
           "colorbar": {
            "outlinewidth": 0,
            "ticks": ""
           }
          },
          "colorscale": {
           "diverging": [
            [
             0,
             "#8e0152"
            ],
            [
             0.1,
             "#c51b7d"
            ],
            [
             0.2,
             "#de77ae"
            ],
            [
             0.3,
             "#f1b6da"
            ],
            [
             0.4,
             "#fde0ef"
            ],
            [
             0.5,
             "#f7f7f7"
            ],
            [
             0.6,
             "#e6f5d0"
            ],
            [
             0.7,
             "#b8e186"
            ],
            [
             0.8,
             "#7fbc41"
            ],
            [
             0.9,
             "#4d9221"
            ],
            [
             1,
             "#276419"
            ]
           ],
           "sequential": [
            [
             0,
             "#0d0887"
            ],
            [
             0.1111111111111111,
             "#46039f"
            ],
            [
             0.2222222222222222,
             "#7201a8"
            ],
            [
             0.3333333333333333,
             "#9c179e"
            ],
            [
             0.4444444444444444,
             "#bd3786"
            ],
            [
             0.5555555555555556,
             "#d8576b"
            ],
            [
             0.6666666666666666,
             "#ed7953"
            ],
            [
             0.7777777777777778,
             "#fb9f3a"
            ],
            [
             0.8888888888888888,
             "#fdca26"
            ],
            [
             1,
             "#f0f921"
            ]
           ],
           "sequentialminus": [
            [
             0,
             "#0d0887"
            ],
            [
             0.1111111111111111,
             "#46039f"
            ],
            [
             0.2222222222222222,
             "#7201a8"
            ],
            [
             0.3333333333333333,
             "#9c179e"
            ],
            [
             0.4444444444444444,
             "#bd3786"
            ],
            [
             0.5555555555555556,
             "#d8576b"
            ],
            [
             0.6666666666666666,
             "#ed7953"
            ],
            [
             0.7777777777777778,
             "#fb9f3a"
            ],
            [
             0.8888888888888888,
             "#fdca26"
            ],
            [
             1,
             "#f0f921"
            ]
           ]
          },
          "colorway": [
           "#636efa",
           "#EF553B",
           "#00cc96",
           "#ab63fa",
           "#FFA15A",
           "#19d3f3",
           "#FF6692",
           "#B6E880",
           "#FF97FF",
           "#FECB52"
          ],
          "font": {
           "color": "#2a3f5f"
          },
          "geo": {
           "bgcolor": "white",
           "lakecolor": "white",
           "landcolor": "#E5ECF6",
           "showlakes": true,
           "showland": true,
           "subunitcolor": "white"
          },
          "hoverlabel": {
           "align": "left"
          },
          "hovermode": "closest",
          "mapbox": {
           "style": "light"
          },
          "paper_bgcolor": "white",
          "plot_bgcolor": "#E5ECF6",
          "polar": {
           "angularaxis": {
            "gridcolor": "white",
            "linecolor": "white",
            "ticks": ""
           },
           "bgcolor": "#E5ECF6",
           "radialaxis": {
            "gridcolor": "white",
            "linecolor": "white",
            "ticks": ""
           }
          },
          "scene": {
           "xaxis": {
            "backgroundcolor": "#E5ECF6",
            "gridcolor": "white",
            "gridwidth": 2,
            "linecolor": "white",
            "showbackground": true,
            "ticks": "",
            "zerolinecolor": "white"
           },
           "yaxis": {
            "backgroundcolor": "#E5ECF6",
            "gridcolor": "white",
            "gridwidth": 2,
            "linecolor": "white",
            "showbackground": true,
            "ticks": "",
            "zerolinecolor": "white"
           },
           "zaxis": {
            "backgroundcolor": "#E5ECF6",
            "gridcolor": "white",
            "gridwidth": 2,
            "linecolor": "white",
            "showbackground": true,
            "ticks": "",
            "zerolinecolor": "white"
           }
          },
          "shapedefaults": {
           "line": {
            "color": "#2a3f5f"
           }
          },
          "ternary": {
           "aaxis": {
            "gridcolor": "white",
            "linecolor": "white",
            "ticks": ""
           },
           "baxis": {
            "gridcolor": "white",
            "linecolor": "white",
            "ticks": ""
           },
           "bgcolor": "#E5ECF6",
           "caxis": {
            "gridcolor": "white",
            "linecolor": "white",
            "ticks": ""
           }
          },
          "title": {
           "x": 0.05
          },
          "xaxis": {
           "automargin": true,
           "gridcolor": "white",
           "linecolor": "white",
           "ticks": "",
           "title": {
            "standoff": 15
           },
           "zerolinecolor": "white",
           "zerolinewidth": 2
          },
          "yaxis": {
           "automargin": true,
           "gridcolor": "white",
           "linecolor": "white",
           "ticks": "",
           "title": {
            "standoff": 15
           },
           "zerolinecolor": "white",
           "zerolinewidth": 2
          }
         }
        },
        "width": 900,
        "xaxis": {
         "gridcolor": "#1f292f",
         "nticks": 5,
         "rangeslider": {
          "visible": false
         }
        },
        "yaxis": {
         "gridcolor": "#1f292f"
        }
       }
      }
     },
     "metadata": {},
     "output_type": "display_data"
    }
   ],
   "source": [
    "fig = go.Figure()\n",
    "\n",
    "fig.add_trace(go.Candlestick(\n",
    "        x=df_plot.sTime,\n",
    "        open=df_plot.mid_o,\n",
    "        high=df_plot.mid_h,\n",
    "        low=df_plot.mid_l,\n",
    "        close=df_plot.mid_c,\n",
    "        line=dict(width=1),\n",
    "        opacity=1,\n",
    "        increasing_fillcolor =\"#24A06B\",\n",
    "        decreasing_fillcolor =\"#CC2E3C\",\n",
    "        increasing_line_color =\"#2EC886\",\n",
    "        decreasing_line_color =\"#FF3A4C\",\n",
    "\n",
    "))\n",
    "\n",
    "\n",
    "fig.update_yaxes(\n",
    "    gridcolor='#1f292f',\n",
    ")\n",
    "fig.update_xaxes(\n",
    "    gridcolor='#1f292f',\n",
    "    rangeslider_visible=False,\n",
    "    nticks=5,\n",
    "    \n",
    ")\n",
    "\n",
    "fig.update_layout(\n",
    "    width=900,\n",
    "    height=400,\n",
    "    margin=dict(l=10, r=10, b=10, t=10,),\n",
    "    paper_bgcolor='#2c303c',\n",
    "    plot_bgcolor='#2c303c',\n",
    "    font = dict(size=8, color='#e1e1e1'),\n",
    "\n",
    ")\n",
    "\n",
    "fig.show()\n"
   ]
  }
 ],
 "metadata": {
  "interpreter": {
   "hash": "5cf64819b9208be01ead9e9d1e9faac3307ea170813f6d03ffdd862545b09beb"
  },
  "kernelspec": {
   "display_name": "Python 3.8.0 64-bit",
   "language": "python",
   "name": "python3"
  },
  "language_info": {
   "codemirror_mode": {
    "name": "ipython",
    "version": 3
   },
   "file_extension": ".py",
   "mimetype": "text/x-python",
   "name": "python",
   "nbconvert_exporter": "python",
   "pygments_lexer": "ipython3",
   "version": "3.8.0"
  },
  "orig_nbformat": 4
 },
 "nbformat": 4,
 "nbformat_minor": 2
}
