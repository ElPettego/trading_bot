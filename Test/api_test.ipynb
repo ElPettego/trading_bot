{
 "cells": [
  {
   "cell_type": "code",
   "execution_count": 19,
   "metadata": {},
   "outputs": [],
   "source": [
    "import requests\n",
    "import pandas as pd\n",
    "import json"
   ]
  },
  {
   "cell_type": "code",
   "execution_count": 20,
   "metadata": {},
   "outputs": [],
   "source": [
    "API_KEY = \"062fcaf65c7a4f1e56230ca193f72e9b-70d22f09f9d48c22fe72aabf5b1821e9\"\n",
    "ACCOUND_ID = \"101-012-21494048-001\"\n",
    "OANDA_URL = \"https://api-fxpractice.oanda.com/v3\""
   ]
  },
  {
   "cell_type": "code",
   "execution_count": 21,
   "metadata": {},
   "outputs": [],
   "source": [
    "session = requests.Session()"
   ]
  },
  {
   "cell_type": "code",
   "execution_count": 22,
   "metadata": {},
   "outputs": [],
   "source": [
    "# autorizziamo la richiesta\n",
    "session.headers.update({\n",
    "    'Authorization': 'Bearer ' + API_KEY,\n",
    "    'Content-Type': 'application/json'\n",
    "    })"
   ]
  },
  {
   "cell_type": "code",
   "execution_count": 23,
   "metadata": {},
   "outputs": [],
   "source": [
    "params = dict(\n",
    "    count = 10,\n",
    "    granularity = \"M1\",\n",
    "    price= \"MBA\"\n",
    ")"
   ]
  },
  {
   "cell_type": "code",
   "execution_count": 24,
   "metadata": {},
   "outputs": [],
   "source": [
    "url = f'{OANDA_URL}/instruments/BTC_USD/candles'"
   ]
  },
  {
   "cell_type": "code",
   "execution_count": 25,
   "metadata": {},
   "outputs": [],
   "source": [
    "res = session.get(url, params=params, data= None, headers=None)"
   ]
  },
  {
   "cell_type": "code",
   "execution_count": 26,
   "metadata": {},
   "outputs": [
    {
     "data": {
      "text/plain": [
       "200"
      ]
     },
     "execution_count": 26,
     "metadata": {},
     "output_type": "execute_result"
    }
   ],
   "source": [
    "res.status_code"
   ]
  },
  {
   "cell_type": "code",
   "execution_count": 27,
   "metadata": {},
   "outputs": [
    {
     "data": {
      "text/plain": [
       "{'instrument': 'BTC_USD',\n",
       " 'granularity': 'M1',\n",
       " 'candles': [{'complete': True,\n",
       "   'volume': 541,\n",
       "   'time': '2022-05-18T21:17:00.000000000Z',\n",
       "   'bid': {'o': '29179.0', 'h': '29179.0', 'l': '29160.7', 'c': '29172.0'},\n",
       "   'mid': {'o': '29227.2', 'h': '29227.2', 'l': '29210.2', 'c': '29221.0'},\n",
       "   'ask': {'o': '29275.5', 'h': '29275.5', 'l': '29259.1', 'c': '29270.0'}},\n",
       "  {'complete': True,\n",
       "   'volume': 651,\n",
       "   'time': '2022-05-18T21:18:00.000000000Z',\n",
       "   'bid': {'o': '29172.0', 'h': '29172.0', 'l': '29152.8', 'c': '29170.9'},\n",
       "   'mid': {'o': '29221.1', 'h': '29221.4', 'l': '29200.4', 'c': '29218.2'},\n",
       "   'ask': {'o': '29270.2', 'h': '29271.5', 'l': '29248.0', 'c': '29265.6'}},\n",
       "  {'complete': True,\n",
       "   'volume': 542,\n",
       "   'time': '2022-05-18T21:19:00.000000000Z',\n",
       "   'bid': {'o': '29170.9', 'h': '29177.0', 'l': '29165.9', 'c': '29172.7'},\n",
       "   'mid': {'o': '29218.1', 'h': '29226.3', 'l': '29214.2', 'c': '29219.9'},\n",
       "   'ask': {'o': '29265.3', 'h': '29276.0', 'l': '29261.5', 'c': '29267.1'}},\n",
       "  {'complete': True,\n",
       "   'volume': 438,\n",
       "   'time': '2022-05-18T21:20:00.000000000Z',\n",
       "   'bid': {'o': '29173.0', 'h': '29173.0', 'l': '29171.0', 'c': '29173.0'},\n",
       "   'mid': {'o': '29220.1', 'h': '29222.8', 'l': '29219.2', 'c': '29221.3'},\n",
       "   'ask': {'o': '29267.2', 'h': '29272.8', 'l': '29267.0', 'c': '29269.6'}},\n",
       "  {'complete': True,\n",
       "   'volume': 711,\n",
       "   'time': '2022-05-18T21:21:00.000000000Z',\n",
       "   'bid': {'o': '29173.0', 'h': '29200.0', 'l': '29172.6', 'c': '29200.0'},\n",
       "   'mid': {'o': '29221.4', 'h': '29248.0', 'l': '29221.1', 'c': '29247.0'},\n",
       "   'ask': {'o': '29269.7', 'h': '29297.1', 'l': '29269.2', 'c': '29294.1'}},\n",
       "  {'complete': True,\n",
       "   'volume': 404,\n",
       "   'time': '2022-05-18T21:22:00.000000000Z',\n",
       "   'bid': {'o': '29200.0', 'h': '29201.0', 'l': '29192.5', 'c': '29201.0'},\n",
       "   'mid': {'o': '29247.1', 'h': '29249.4', 'l': '29241.2', 'c': '29248.9'},\n",
       "   'ask': {'o': '29294.2', 'h': '29297.7', 'l': '29289.4', 'c': '29296.8'}},\n",
       "  {'complete': True,\n",
       "   'volume': 865,\n",
       "   'time': '2022-05-18T21:23:00.000000000Z',\n",
       "   'bid': {'o': '29201.0', 'h': '29247.0', 'l': '29192.0', 'c': '29241.5'},\n",
       "   'mid': {'o': '29249.0', 'h': '29297.0', 'l': '29241.2', 'c': '29291.5'},\n",
       "   'ask': {'o': '29297.0', 'h': '29347.3', 'l': '29289.8', 'c': '29341.5'}},\n",
       "  {'complete': True,\n",
       "   'volume': 1126,\n",
       "   'time': '2022-05-18T21:24:00.000000000Z',\n",
       "   'bid': {'o': '29241.7', 'h': '29259.0', 'l': '29200.0', 'c': '29250.9'},\n",
       "   'mid': {'o': '29291.6', 'h': '29309.4', 'l': '29266.0', 'c': '29300.1'},\n",
       "   'ask': {'o': '29341.6', 'h': '29361.5', 'l': '29315.1', 'c': '29349.3'}},\n",
       "  {'complete': True,\n",
       "   'volume': 950,\n",
       "   'time': '2022-05-18T21:25:00.000000000Z',\n",
       "   'bid': {'o': '29251.0', 'h': '29251.0', 'l': '29215.3', 'c': '29227.9'},\n",
       "   'mid': {'o': '29300.2', 'h': '29300.3', 'l': '29264.2', 'c': '29275.6'},\n",
       "   'ask': {'o': '29349.5', 'h': '29350.4', 'l': '29312.5', 'c': '29323.2'}},\n",
       "  {'complete': False,\n",
       "   'volume': 372,\n",
       "   'time': '2022-05-18T21:26:00.000000000Z',\n",
       "   'bid': {'o': '29228.0', 'h': '29231.0', 'l': '29218.7', 'c': '29222.0'},\n",
       "   'mid': {'o': '29275.6', 'h': '29278.9', 'l': '29268.8', 'c': '29271.1'},\n",
       "   'ask': {'o': '29323.1', 'h': '29327.4', 'l': '29319.0', 'c': '29320.2'}}]}"
      ]
     },
     "execution_count": 27,
     "metadata": {},
     "output_type": "execute_result"
    }
   ],
   "source": [
    "res.json()"
   ]
  },
  {
   "cell_type": "code",
   "execution_count": null,
   "metadata": {},
   "outputs": [],
   "source": []
  }
 ],
 "metadata": {
  "interpreter": {
   "hash": "af4a710ac7020a047af74451a3f86b34c6b4849737febb4fd16cae66b2c593db"
  },
  "kernelspec": {
   "display_name": "Python 3.9.6 64-bit",
   "language": "python",
   "name": "python3"
  },
  "language_info": {
   "codemirror_mode": {
    "name": "ipython",
    "version": 3
   },
   "file_extension": ".py",
   "mimetype": "text/x-python",
   "name": "python",
   "nbconvert_exporter": "python",
   "pygments_lexer": "ipython3",
   "version": "3.9.6"
  },
  "orig_nbformat": 4
 },
 "nbformat": 4,
 "nbformat_minor": 2
}
