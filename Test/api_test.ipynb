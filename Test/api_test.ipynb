{
 "cells": [
  {
   "cell_type": "code",
   "execution_count": 41,
   "metadata": {},
   "outputs": [],
   "source": [
    "import requests\n",
    "import pandas as pd\n",
    "import json\n",
    "from dateutil import parser"
   ]
  },
  {
   "cell_type": "code",
   "execution_count": 3,
   "metadata": {},
   "outputs": [],
   "source": [
    "API_KEY = \"062fcaf65c7a4f1e56230ca193f72e9b-70d22f09f9d48c22fe72aabf5b1821e9\"\n",
    "ACCOUND_ID = \"101-012-21494048-001\"\n",
    "OANDA_URL = \"https://api-fxpractice.oanda.com/v3\""
   ]
  },
  {
   "cell_type": "code",
   "execution_count": 4,
   "metadata": {},
   "outputs": [],
   "source": [
    "session = requests.Session()"
   ]
  },
  {
   "cell_type": "code",
   "execution_count": 5,
   "metadata": {},
   "outputs": [],
   "source": [
    "# autorizziamo la richiesta\n",
    "session.headers.update({\n",
    "    'Authorization': 'Bearer ' + API_KEY,\n",
    "    'Content-Type': 'application/json'\n",
    "    })"
   ]
  },
  {
   "cell_type": "code",
   "execution_count": 6,
   "metadata": {},
   "outputs": [],
   "source": [
    "params = dict(\n",
    "    count = 10,\n",
    "    granularity = \"M1\",\n",
    "    price= \"MBA\"\n",
    ")"
   ]
  },
  {
   "cell_type": "code",
   "execution_count": 7,
   "metadata": {},
   "outputs": [],
   "source": [
    "url = f'{OANDA_URL}/accounts/{ACCOUND_ID}/instruments'"
   ]
  },
  {
   "cell_type": "code",
   "execution_count": 8,
   "metadata": {},
   "outputs": [],
   "source": [
    "res = session.get(url, params=params, data= None, headers=None)"
   ]
  },
  {
   "cell_type": "code",
   "execution_count": 9,
   "metadata": {},
   "outputs": [
    {
     "data": {
      "text/plain": [
       "200"
      ]
     },
     "execution_count": 9,
     "metadata": {},
     "output_type": "execute_result"
    }
   ],
   "source": [
    "res.status_code"
   ]
  },
  {
   "cell_type": "code",
   "execution_count": 10,
   "metadata": {},
   "outputs": [],
   "source": [
    "data = res.json()"
   ]
  },
  {
   "cell_type": "code",
   "execution_count": 11,
   "metadata": {},
   "outputs": [],
   "source": [
    "instrument_list = data['instruments']\n"
   ]
  },
  {
   "cell_type": "code",
   "execution_count": 12,
   "metadata": {},
   "outputs": [],
   "source": [
    "key_i = ['name', 'type', 'displayName', 'pipLocation', 'displayPrecision', 'tradeUnitsPrecision', 'marginRate' ]"
   ]
  },
  {
   "cell_type": "code",
   "execution_count": 13,
   "metadata": {},
   "outputs": [],
   "source": [
    "url = f'{OANDA_URL}/accounts/{ACCOUND_ID}/instruments?instruments=BTC_USD'\n",
    "res = session.get(url, params=params, data=None, headers=None)\n"
   ]
  },
  {
   "cell_type": "code",
   "execution_count": 14,
   "metadata": {},
   "outputs": [],
   "source": [
    "data = res.json()\n"
   ]
  },
  {
   "cell_type": "code",
   "execution_count": 15,
   "metadata": {},
   "outputs": [],
   "source": [
    "instrument_list.append(data['instruments'][0])"
   ]
  },
  {
   "cell_type": "code",
   "execution_count": 16,
   "metadata": {},
   "outputs": [],
   "source": [
    "instrument_dict = {}\n",
    "for i in instrument_list:\n",
    "    key = i['name']\n",
    "    instrument_dict[key] = { k: i[k] for k in key_i}\n",
    "\n"
   ]
  },
  {
   "cell_type": "code",
   "execution_count": 17,
   "metadata": {},
   "outputs": [],
   "source": [
    "with open('../data/instrument.json', 'w') as f:\n",
    "    f.write(json.dumps(instrument_dict, indent=2))"
   ]
  },
  {
   "cell_type": "code",
   "execution_count": 23,
   "metadata": {},
   "outputs": [],
   "source": [
    "def fetch_candles(pair_name, count= 10, granularity = 'H1'):\n",
    "    url = f'{OANDA_URL}/instruments/{pair_name}/candles'\n",
    "    params = dict(\n",
    "        count = count,\n",
    "        granularity = granularity,\n",
    "        price= \"MBA\"\n",
    "    )\n",
    "\n",
    "    response = session.get(url, params=params, data=None, headers=None)\n",
    "    data = response.json()\n",
    "    \n",
    "    # controllo la risposta\\\n",
    "    if response.status_code == 200:\n",
    "        if 'candles' not in data:\n",
    "            data = []\n",
    "        else:\n",
    "            data = data['candles']\n",
    "\n",
    "    return response.status_code, data"
   ]
  },
  {
   "cell_type": "code",
   "execution_count": 60,
   "metadata": {},
   "outputs": [],
   "source": [
    "\n",
    "def get_candles_df(data):\n",
    "    if len(data) == 0:\n",
    "        return pd.DataFrame()\n",
    "\n",
    "    price = ['mid', 'bid', 'ask'] # prezzo medio, prezzo di vendita, prezzo di acquisto\n",
    "\n",
    "    ohlc = ['o', 'h', 'l', 'c'] # open, high, low, close (mid_o, mid_h, mid_l, mid_c,...)\n",
    "\n",
    "    final_data = []\n",
    "\n",
    "\n",
    "    for d in data:\n",
    "\n",
    "        if d['complete'] == False:\n",
    "            continue\n",
    "        new_dict = {}\n",
    "        new_dict['time'] = parser.parse( d['time'])\n",
    "        new_dict['volume'] = d['volume']\n",
    "        \n",
    "\n",
    "        for p in price:\n",
    "            for o in ohlc:\n",
    "                new_dict[f'{p}_{o}'] = float(d[p][o])\n",
    "        final_data.append(new_dict)\n",
    "\n",
    "\n",
    "    df = pd.DataFrame(final_data)\n",
    "\n",
    "    return df\n",
    "\n"
   ]
  },
  {
   "cell_type": "code",
   "execution_count": 68,
   "metadata": {},
   "outputs": [],
   "source": [
    "def crea_data_file(pair_name, count = 10,granularity = 'H1'):\n",
    "    status_code, data = fetch_candles(pair_name, count, granularity)\n",
    "    if status_code != 200:\n",
    "        print(f'Error: {status_code}', pair_name, data)\n",
    "        return\n",
    "    if len(data) == 0:\n",
    "        print(f'No data: {pair_name}')\n",
    "        return\n",
    "    df = get_candles_df(data)\n",
    "    # salvo i dati in un file\n",
    "    df.to_pickle(f'../data/{pair_name}_{granularity}.pkl')\n",
    "    print(f'{pair_name} {granularity} {df.shape[0]} candele, da: {df.time.min()} a {df.time.max()} !')\n",
    "    "
   ]
  },
  {
   "cell_type": "code",
   "execution_count": 70,
   "metadata": {},
   "outputs": [
    {
     "name": "stdout",
     "output_type": "stream",
     "text": [
      "EUR_USD H1 9 candele, da: 2022-05-22 21:00:00+00:00 a 2022-05-23 05:00:00+00:00 !\n"
     ]
    }
   ],
   "source": [
    "crea_data_file('BTC_USD', count = 10, granularity = 'H1')"
   ]
  },
  {
   "cell_type": "code",
   "execution_count": 75,
   "metadata": {},
   "outputs": [],
   "source": [
    "valute = ['EUR', 'USD', 'GBP', 'JPY', 'CHF', 'NZD', 'CAD', 'AUD', 'BTC']"
   ]
  },
  {
   "cell_type": "code",
   "execution_count": 76,
   "metadata": {},
   "outputs": [
    {
     "name": "stdout",
     "output_type": "stream",
     "text": [
      "EUR_USD H1 4000 candele, da: 2021-09-30 10:00:00+00:00 a 2022-05-23 05:00:00+00:00 !\n",
      "EUR_USD H4 4000 candele, da: 2019-10-25 13:00:00+00:00 a 2022-05-23 01:00:00+00:00 !\n",
      "EUR_GBP H1 4000 candele, da: 2021-09-30 08:00:00+00:00 a 2022-05-23 06:00:00+00:00 !\n",
      "EUR_GBP H4 4000 candele, da: 2019-10-25 13:00:00+00:00 a 2022-05-23 01:00:00+00:00 !\n",
      "EUR_JPY H1 4000 candele, da: 2021-09-30 02:00:00+00:00 a 2022-05-23 06:00:00+00:00 !\n",
      "EUR_JPY H4 4000 candele, da: 2019-10-25 05:00:00+00:00 a 2022-05-23 01:00:00+00:00 !\n",
      "EUR_CHF H1 4000 candele, da: 2021-09-30 11:00:00+00:00 a 2022-05-23 06:00:00+00:00 !\n",
      "EUR_CHF H4 4000 candele, da: 2019-10-25 13:00:00+00:00 a 2022-05-23 01:00:00+00:00 !\n",
      "EUR_NZD H1 4000 candele, da: 2021-09-30 11:00:00+00:00 a 2022-05-23 06:00:00+00:00 !\n",
      "EUR_NZD H4 4000 candele, da: 2019-10-25 13:00:00+00:00 a 2022-05-23 01:00:00+00:00 !\n",
      "EUR_CAD H1 4000 candele, da: 2021-09-30 11:00:00+00:00 a 2022-05-23 06:00:00+00:00 !\n",
      "EUR_CAD H4 4000 candele, da: 2019-10-25 13:00:00+00:00 a 2022-05-23 01:00:00+00:00 !\n",
      "EUR_AUD H1 4000 candele, da: 2021-09-30 09:00:00+00:00 a 2022-05-23 06:00:00+00:00 !\n",
      "EUR_AUD H4 4000 candele, da: 2019-10-25 13:00:00+00:00 a 2022-05-23 01:00:00+00:00 !\n",
      "USD_JPY H1 4000 candele, da: 2021-09-30 11:00:00+00:00 a 2022-05-23 06:00:00+00:00 !\n",
      "USD_JPY H4 4000 candele, da: 2019-10-25 17:00:00+00:00 a 2022-05-23 01:00:00+00:00 !\n",
      "USD_CHF H1 4000 candele, da: 2021-09-30 06:00:00+00:00 a 2022-05-23 06:00:00+00:00 !\n",
      "USD_CHF H4 4000 candele, da: 2019-10-25 13:00:00+00:00 a 2022-05-23 01:00:00+00:00 !\n",
      "USD_CAD H1 4000 candele, da: 2021-09-30 11:00:00+00:00 a 2022-05-23 06:00:00+00:00 !\n",
      "USD_CAD H4 4000 candele, da: 2019-10-25 13:00:00+00:00 a 2022-05-23 01:00:00+00:00 !\n",
      "GBP_USD H1 4000 candele, da: 2021-09-30 11:00:00+00:00 a 2022-05-23 06:00:00+00:00 !\n",
      "GBP_USD H4 4000 candele, da: 2019-10-25 13:00:00+00:00 a 2022-05-23 01:00:00+00:00 !\n",
      "GBP_JPY H1 4000 candele, da: 2021-09-30 11:00:00+00:00 a 2022-05-23 06:00:00+00:00 !\n",
      "GBP_JPY H4 4000 candele, da: 2019-10-25 13:00:00+00:00 a 2022-05-23 01:00:00+00:00 !\n",
      "GBP_CHF H1 4000 candele, da: 2021-09-30 11:00:00+00:00 a 2022-05-23 06:00:00+00:00 !\n",
      "GBP_CHF H4 4000 candele, da: 2019-10-25 13:00:00+00:00 a 2022-05-23 01:00:00+00:00 !\n",
      "GBP_NZD H1 4000 candele, da: 2021-09-30 11:00:00+00:00 a 2022-05-23 06:00:00+00:00 !\n",
      "GBP_NZD H4 4000 candele, da: 2019-10-25 13:00:00+00:00 a 2022-05-23 01:00:00+00:00 !\n",
      "GBP_CAD H1 4000 candele, da: 2021-09-30 11:00:00+00:00 a 2022-05-23 06:00:00+00:00 !\n",
      "GBP_CAD H4 4000 candele, da: 2019-10-25 13:00:00+00:00 a 2022-05-23 01:00:00+00:00 !\n",
      "GBP_AUD H1 4000 candele, da: 2021-09-30 10:00:00+00:00 a 2022-05-23 06:00:00+00:00 !\n",
      "GBP_AUD H4 4000 candele, da: 2019-10-25 13:00:00+00:00 a 2022-05-23 01:00:00+00:00 !\n",
      "CHF_JPY H1 4000 candele, da: 2021-09-30 10:00:00+00:00 a 2022-05-23 06:00:00+00:00 !\n",
      "CHF_JPY H4 4000 candele, da: 2019-10-25 13:00:00+00:00 a 2022-05-23 01:00:00+00:00 !\n",
      "NZD_USD H1 4000 candele, da: 2021-09-30 08:00:00+00:00 a 2022-05-23 06:00:00+00:00 !\n",
      "NZD_USD H4 4000 candele, da: 2019-10-25 17:00:00+00:00 a 2022-05-23 01:00:00+00:00 !\n",
      "NZD_JPY H1 4000 candele, da: 2021-09-30 11:00:00+00:00 a 2022-05-23 06:00:00+00:00 !\n",
      "NZD_JPY H4 4000 candele, da: 2019-10-25 17:00:00+00:00 a 2022-05-23 01:00:00+00:00 !\n",
      "NZD_CHF H1 4000 candele, da: 2021-09-30 05:00:00+00:00 a 2022-05-23 06:00:00+00:00 !\n",
      "NZD_CHF H4 4000 candele, da: 2019-10-25 09:00:00+00:00 a 2022-05-23 01:00:00+00:00 !\n",
      "NZD_CAD H1 4000 candele, da: 2021-09-30 10:00:00+00:00 a 2022-05-23 06:00:00+00:00 !\n",
      "NZD_CAD H4 4000 candele, da: 2019-10-25 13:00:00+00:00 a 2022-05-23 01:00:00+00:00 !\n",
      "CAD_JPY H1 4000 candele, da: 2021-09-30 11:00:00+00:00 a 2022-05-23 06:00:00+00:00 !\n",
      "CAD_JPY H4 4000 candele, da: 2019-10-25 13:00:00+00:00 a 2022-05-23 01:00:00+00:00 !\n",
      "CAD_CHF H1 4000 candele, da: 2021-09-30 11:00:00+00:00 a 2022-05-23 06:00:00+00:00 !\n",
      "CAD_CHF H4 4000 candele, da: 2019-10-25 13:00:00+00:00 a 2022-05-23 01:00:00+00:00 !\n",
      "AUD_USD H1 4000 candele, da: 2021-09-30 06:00:00+00:00 a 2022-05-23 06:00:00+00:00 !\n",
      "AUD_USD H4 4000 candele, da: 2019-10-25 13:00:00+00:00 a 2022-05-23 01:00:00+00:00 !\n",
      "AUD_JPY H1 4000 candele, da: 2021-09-30 21:00:00+00:00 a 2022-05-23 06:00:00+00:00 !\n",
      "AUD_JPY H4 4000 candele, da: 2019-10-28 13:00:00+00:00 a 2022-05-23 01:00:00+00:00 !\n",
      "AUD_CHF H1 4000 candele, da: 2021-09-30 05:00:00+00:00 a 2022-05-23 06:00:00+00:00 !\n",
      "AUD_CHF H4 4000 candele, da: 2019-10-25 09:00:00+00:00 a 2022-05-23 01:00:00+00:00 !\n",
      "AUD_NZD H1 4000 candele, da: 2021-09-30 05:00:00+00:00 a 2022-05-23 06:00:00+00:00 !\n",
      "AUD_NZD H4 4000 candele, da: 2019-10-25 09:00:00+00:00 a 2022-05-23 01:00:00+00:00 !\n",
      "AUD_CAD H1 4000 candele, da: 2021-09-30 11:00:00+00:00 a 2022-05-23 06:00:00+00:00 !\n",
      "AUD_CAD H4 4000 candele, da: 2019-10-25 13:00:00+00:00 a 2022-05-23 01:00:00+00:00 !\n",
      "BTC_USD H1 4000 candele, da: 2021-09-30 01:00:00+00:00 a 2022-05-23 06:00:00+00:00 !\n",
      "BTC_USD H4 4000 candele, da: 2019-10-18 17:00:00+00:00 a 2022-05-23 01:00:00+00:00 !\n"
     ]
    }
   ],
   "source": [
    "for p1 in valute:\n",
    "    for p2 in valute:\n",
    "        pr = f'{p1}_{p2}'\n",
    "        if pr in instrument_dict:\n",
    "            for g in ['H1', 'H4']:\n",
    "                crea_data_file(pr, count = 4001, granularity = g)"
   ]
  }
 ],
 "metadata": {
  "interpreter": {
   "hash": "5cf64819b9208be01ead9e9d1e9faac3307ea170813f6d03ffdd862545b09beb"
  },
  "kernelspec": {
   "display_name": "Python 3.8.0 64-bit",
   "language": "python",
   "name": "python3"
  },
  "language_info": {
   "codemirror_mode": {
    "name": "ipython",
    "version": 3
   },
   "file_extension": ".py",
   "mimetype": "text/x-python",
   "name": "python",
   "nbconvert_exporter": "python",
   "pygments_lexer": "ipython3",
   "version": "3.8.0"
  },
  "orig_nbformat": 4
 },
 "nbformat": 4,
 "nbformat_minor": 2
}
