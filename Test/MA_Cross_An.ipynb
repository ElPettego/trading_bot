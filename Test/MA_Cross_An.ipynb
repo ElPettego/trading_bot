{
 "cells": [
  {
   "cell_type": "code",
   "execution_count": null,
   "metadata": {},
   "outputs": [],
   "source": [
    "import pandas as pd\n",
    "from plotting import CandlePlotting\n",
    "pd.set_option('display.max_columns', None)"
   ]
  },
  {
   "cell_type": "code",
   "execution_count": null,
   "metadata": {},
   "outputs": [],
   "source": [
    "df_ma_res = pd.read_pickle(\"../Data/ma_res.pkl\")\n",
    "df_ma_trades = pd.read_pickle(\"../Data/ma_trades.pkl\")"
   ]
  },
  {
   "cell_type": "code",
   "execution_count": null,
   "metadata": {},
   "outputs": [],
   "source": [
    "df_ma_res.granularity.unique()"
   ]
  },
  {
   "cell_type": "code",
   "execution_count": null,
   "metadata": {},
   "outputs": [],
   "source": [
    "df_ma_res_h1 = df_ma_res[df_ma_res.granularity == \"H1\"].copy()\n",
    "df_ma_trades_h1 = df_ma_trades[df_ma_trades.granularity == \"H1\"].copy()\n"
   ]
  },
  {
   "cell_type": "code",
   "execution_count": null,
   "metadata": {},
   "outputs": [],
   "source": [
    "df_ma_trades_h1.shape"
   ]
  },
  {
   "cell_type": "code",
   "execution_count": null,
   "metadata": {},
   "outputs": [],
   "source": [
    "df_ma_res_h1.shape\n"
   ]
  },
  {
   "cell_type": "code",
   "execution_count": null,
   "metadata": {},
   "outputs": [],
   "source": [
    "df_ma_res_h1.columns"
   ]
  },
  {
   "cell_type": "code",
   "execution_count": null,
   "metadata": {},
   "outputs": [],
   "source": [
    "df_cross_summary = df_ma_res_h1[['pair', 'num_trades', 'total_gain', 'cross']].copy()"
   ]
  },
  {
   "cell_type": "code",
   "execution_count": null,
   "metadata": {},
   "outputs": [],
   "source": [
    "df_cross_summary"
   ]
  },
  {
   "cell_type": "markdown",
   "metadata": {},
   "source": [
    "UNISCO TUTTE LE RIGHE CHE HANNO LA STESSA CROSS\n"
   ]
  },
  {
   "cell_type": "code",
   "execution_count": null,
   "metadata": {},
   "outputs": [],
   "source": [
    "df_cross_gr  = df_cross_summary.groupby(by=\"cross\", as_index=False ).sum()\n",
    "df_cross_gr.sort_values(by=\"total_gain\", ascending=False, inplace=True)"
   ]
  },
  {
   "cell_type": "code",
   "execution_count": null,
   "metadata": {},
   "outputs": [],
   "source": [
    "df_cross_gr.head()"
   ]
  },
  {
   "cell_type": "code",
   "execution_count": null,
   "metadata": {},
   "outputs": [],
   "source": [
    "total_pair = len(df_ma_res_h1.pair.unique())"
   ]
  },
  {
   "cell_type": "code",
   "execution_count": null,
   "metadata": {},
   "outputs": [],
   "source": [
    "total_pair"
   ]
  },
  {
   "cell_type": "code",
   "execution_count": null,
   "metadata": {},
   "outputs": [],
   "source": [
    "temp = df_ma_res_h1[df_ma_res_h1.cross == \"MA_10_MA_20 \"]"
   ]
  },
  {
   "cell_type": "code",
   "execution_count": null,
   "metadata": {},
   "outputs": [],
   "source": [
    "temp[temp.total_gain > 0].shape[0]"
   ]
  },
  {
   "cell_type": "code",
   "execution_count": null,
   "metadata": {},
   "outputs": [],
   "source": [
    "for c in df_ma_res_h1.cross.unique():\n",
    "    temp = df_ma_res_h1[df_ma_res_h1.cross == c]\n",
    "    pg = temp[temp.total_gain > 0].shape[0]\n",
    "    print(f\"{c} pg:{pg} perc gain:{(pg/total_pair) * 100:.0f}%\")"
   ]
  },
  {
   "cell_type": "code",
   "execution_count": null,
   "metadata": {},
   "outputs": [],
   "source": [
    "cross = \"MA_10_MA_20\"\n",
    "df_MA_10_MA_20 = df_ma_res_h1[df_ma_res_h1.cross == cross].copy()\n",
    "df_MA_10_MA_20.sort_values(by=\"total_gain\", ascending=False, inplace=True)"
   ]
  },
  {
   "cell_type": "code",
   "execution_count": null,
   "metadata": {},
   "outputs": [],
   "source": [
    "df_MA_10_MA_20.head(20)"
   ]
  },
  {
   "cell_type": "code",
   "execution_count": null,
   "metadata": {},
   "outputs": [],
   "source": [
    "df_gains = df_ma_trades_h1[(df_ma_trades_h1.cross == cross) & (df_ma_trades_h1.pair == \"EUR_USD\")].copy()"
   ]
  },
  {
   "cell_type": "code",
   "execution_count": null,
   "metadata": {},
   "outputs": [],
   "source": [
    "df_gains.head(3)"
   ]
  },
  {
   "cell_type": "code",
   "execution_count": null,
   "metadata": {},
   "outputs": [],
   "source": [
    "cp = CandlePlotting(df_gains, candele=False)\n",
    "cp.show_plot(line_traces=['GAIN_C'])"
   ]
  },
  {
   "cell_type": "code",
   "execution_count": 32,
   "metadata": {},
   "outputs": [
    {
     "name": "stdout",
     "output_type": "stream",
     "text": [
      "GBP_JPY 2339\n",
      "EUR_AUD 2951\n",
      "AUD_JPY 2861\n",
      "USD_JPY 1037\n",
      "GBP_AUD 1934\n",
      "CAD_JPY 788\n",
      "EUR_USD 751\n",
      "AUD_USD 1289\n",
      "GBP_USD 539\n",
      "EUR_CAD 533\n",
      "EUR_JPY 163\n",
      "GBP_CAD 143\n"
     ]
    }
   ],
   "source": [
    "for curr in df_MA_10_MA_20[df_MA_10_MA_20.total_gain > 0].pair.unique():\n",
    "    temp_gain = df_ma_trades_h1[(df_ma_trades_h1.cross == cross) & (df_ma_trades_h1.pair == curr)].copy()\n",
    "\n",
    "    cp = CandlePlotting(temp_gain, candele=False)\n",
    "    print(curr, int(temp_gain.PIPS.sum()))\n",
    "    # cp.show_plot(line_traces=['GAIN_C'])\n",
    "\n",
    "   "
   ]
  },
  {
   "cell_type": "code",
   "execution_count": null,
   "metadata": {},
   "outputs": [],
   "source": []
  }
 ],
 "metadata": {
  "interpreter": {
   "hash": "d5a060a823ebfc0a46fed09e5d4d49b6552270a7dac258bcadf0308cb8ded9d9"
  },
  "kernelspec": {
   "display_name": "Python 3.9.7 ('base')",
   "language": "python",
   "name": "python3"
  },
  "language_info": {
   "codemirror_mode": {
    "name": "ipython",
    "version": 3
   },
   "file_extension": ".py",
   "mimetype": "text/x-python",
   "name": "python",
   "nbconvert_exporter": "python",
   "pygments_lexer": "ipython3",
   "version": "3.9.7"
  },
  "orig_nbformat": 4
 },
 "nbformat": 4,
 "nbformat_minor": 2
}
